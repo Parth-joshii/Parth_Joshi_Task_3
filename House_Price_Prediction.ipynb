{
  "nbformat": 4,
  "nbformat_minor": 0,
  "metadata": {
    "colab": {
      "provenance": []
    },
    "kernelspec": {
      "name": "python3",
      "display_name": "Python 3"
    },
    "language_info": {
      "name": "python"
    }
  },
  "cells": [
    {
      "cell_type": "code",
      "execution_count": 1,
      "metadata": {
        "id": "SXEGwx44sL0d"
      },
      "outputs": [],
      "source": [
        "import kagglehub\n",
        "import pandas as pd\n",
        "import numpy as np\n",
        "import matplotlib.pyplot as plt\n",
        "import seaborn as sns\n",
        "\n",
        "from sklearn.model_selection import train_test_split\n",
        "from sklearn.linear_model import LinearRegression\n",
        "from sklearn.metrics import mean_absolute_error, mean_squared_error, r2_score"
      ]
    },
    {
      "cell_type": "code",
      "source": [
        "# 1. Load dataset (adjust filename if different)\n",
        "df = pd.read_csv(\"/content/drive/MyDrive/Housing.csv\")\n",
        "\n",
        "print(\"\\nFirst 5 rows of dataset:\")\n",
        "print(df.head())"
      ],
      "metadata": {
        "colab": {
          "base_uri": "https://localhost:8080/"
        },
        "id": "I-ph0IgHuC_J",
        "outputId": "7cfb6c47-3852-482b-b21c-7853734521c3"
      },
      "execution_count": 2,
      "outputs": [
        {
          "output_type": "stream",
          "name": "stdout",
          "text": [
            "\n",
            "First 5 rows of dataset:\n",
            "      price  area  bedrooms  bathrooms  stories mainroad guestroom basement  \\\n",
            "0  13300000  7420         4          2        3      yes        no       no   \n",
            "1  12250000  8960         4          4        4      yes        no       no   \n",
            "2  12250000  9960         3          2        2      yes        no      yes   \n",
            "3  12215000  7500         4          2        2      yes        no      yes   \n",
            "4  11410000  7420         4          1        2      yes       yes      yes   \n",
            "\n",
            "  hotwaterheating airconditioning  parking prefarea furnishingstatus  \n",
            "0              no             yes        2      yes        furnished  \n",
            "1              no             yes        3       no        furnished  \n",
            "2              no              no        2      yes   semi-furnished  \n",
            "3              no             yes        3      yes        furnished  \n",
            "4              no             yes        2       no        furnished  \n"
          ]
        }
      ]
    },
    {
      "cell_type": "code",
      "source": [
        "# 2. Encoding the Essential Features\n",
        "\n",
        "# Encode categorical features (Yes/No -> 1/0)\n",
        "df.replace({\"yes\": 1, \"no\": 0}, inplace=True)\n",
        "\n",
        "# One-hot encode for categorical variables\n",
        "df = pd.get_dummies(df, drop_first=True)\n",
        "\n",
        "print(\"\\nColumns after preprocessing:\")\n",
        "print(df.columns)\n",
        "\n",
        "# Features and Target\n",
        "X = df.drop(\"price\", axis=1)\n",
        "y = df[\"price\"]"
      ],
      "metadata": {
        "colab": {
          "base_uri": "https://localhost:8080/"
        },
        "id": "Fs2eZ6_wuHzF",
        "outputId": "d6f9bd07-cf58-4332-a3ac-5b7b4f8842ca"
      },
      "execution_count": 3,
      "outputs": [
        {
          "output_type": "stream",
          "name": "stdout",
          "text": [
            "\n",
            "Columns after preprocessing:\n",
            "Index(['price', 'area', 'bedrooms', 'bathrooms', 'stories', 'mainroad',\n",
            "       'guestroom', 'basement', 'hotwaterheating', 'airconditioning',\n",
            "       'parking', 'prefarea', 'furnishingstatus_semi-furnished',\n",
            "       'furnishingstatus_unfurnished'],\n",
            "      dtype='object')\n"
          ]
        },
        {
          "output_type": "stream",
          "name": "stderr",
          "text": [
            "/tmp/ipython-input-2626892616.py:6: FutureWarning: Downcasting behavior in `replace` is deprecated and will be removed in a future version. To retain the old behavior, explicitly call `result.infer_objects(copy=False)`. To opt-in to the future behavior, set `pd.set_option('future.no_silent_downcasting', True)`\n",
            "  df.replace({\"yes\": 1, \"no\": 0}, inplace=True)\n"
          ]
        }
      ]
    },
    {
      "cell_type": "code",
      "source": [
        "# 3. Train-Test Split\n",
        "X_train, X_test, y_train, y_test = train_test_split(\n",
        "    X, y, test_size=0.2, random_state=42\n",
        ")"
      ],
      "metadata": {
        "id": "sEHk2Nv1uM3O"
      },
      "execution_count": 4,
      "outputs": []
    },
    {
      "cell_type": "code",
      "source": [
        "# 4. Fit Linear Regression\n",
        "model = LinearRegression()\n",
        "model.fit(X_train, y_train)\n",
        "\n",
        "# Predictions\n",
        "y_pred = model.predict(X_test)"
      ],
      "metadata": {
        "id": "SRpIpsNbuPuj"
      },
      "execution_count": 5,
      "outputs": []
    },
    {
      "cell_type": "code",
      "source": [
        "# 5. Evaluation\n",
        "\n",
        "mae = mean_absolute_error(y_test, y_pred)\n",
        "mse = mean_squared_error(y_test, y_pred)\n",
        "rmse = np.sqrt(mse)\n",
        "r2 = r2_score(y_test, y_pred)\n",
        "\n",
        "print(\"\\nModel Evaluation:\")\n",
        "print(f\"MAE  : {mae:.2f}\")\n",
        "print(f\"MSE  : {mse:.2f}\")\n",
        "print(f\"RMSE : {rmse:.2f}\")\n",
        "print(f\"R²   : {r2:.4f}\")"
      ],
      "metadata": {
        "colab": {
          "base_uri": "https://localhost:8080/"
        },
        "id": "WW1XSAwruTAy",
        "outputId": "d5ecaae6-2051-489e-c896-29c5b396f0d4"
      },
      "execution_count": 6,
      "outputs": [
        {
          "output_type": "stream",
          "name": "stdout",
          "text": [
            "\n",
            "Model Evaluation:\n",
            "MAE  : 970043.40\n",
            "MSE  : 1754318687330.66\n",
            "RMSE : 1324506.96\n",
            "R²   : 0.6529\n"
          ]
        }
      ]
    },
    {
      "cell_type": "code",
      "source": [
        "# 6. Plot Regression Line (for one feature)\n",
        "\n",
        "# Let's visualize with 'area' (if present in dataset)\n",
        "if \"area\" in X.columns:\n",
        "    plt.scatter(X_test[\"area\"], y_test, color=\"blue\", label=\"Actual\")\n",
        "    plt.scatter(X_test[\"area\"], y_pred, color=\"red\", label=\"Predicted\")\n",
        "    plt.xlabel(\"Area\")\n",
        "    plt.ylabel(\"Price\")\n",
        "    plt.title(\"Linear Regression - Area vs Price\")\n",
        "    plt.legend()\n",
        "    plt.show()"
      ],
      "metadata": {
        "colab": {
          "base_uri": "https://localhost:8080/",
          "height": 472
        },
        "id": "VJ-rqUUkudmx",
        "outputId": "1a0e62be-8aad-4a53-89e2-5416e07dce49"
      },
      "execution_count": 7,
      "outputs": [
        {
          "output_type": "display_data",
          "data": {
            "text/plain": [
              "<Figure size 640x480 with 1 Axes>"
            ],
            "image/png": "[encoded data removed]"
          },
          "metadata": {}
        }
      ]
    },
    {
      "cell_type": "code",
      "source": [
        "# 7. Interpret Coefficients\n",
        "\n",
        "coefficients = pd.DataFrame({\n",
        "    \"Feature\": X.columns,\n",
        "    \"Coefficient\": model.coef_\n",
        "})\n",
        "\n",
        "print(\"\\nModel Coefficients (Interpretation):\")\n",
        "print(coefficients.sort_values(by=\"Coefficient\", ascending=False))\n"
      ],
      "metadata": {
        "colab": {
          "base_uri": "https://localhost:8080/"
        },
        "id": "PdAbJipeugQn",
        "outputId": "b4da981e-12de-4adc-c034-08dbf2ad4caf"
      },
      "execution_count": 8,
      "outputs": [
        {
          "output_type": "stream",
          "name": "stdout",
          "text": [
            "\n",
            "Model Coefficients (Interpretation):\n",
            "                            Feature   Coefficient\n",
            "2                         bathrooms  1.094445e+06\n",
            "8                   airconditioning  7.914267e+05\n",
            "7                   hotwaterheating  6.846499e+05\n",
            "10                         prefarea  6.298906e+05\n",
            "3                           stories  4.074766e+05\n",
            "6                          basement  3.902512e+05\n",
            "4                          mainroad  3.679199e+05\n",
            "5                         guestroom  2.316100e+05\n",
            "9                           parking  2.248419e+05\n",
            "1                          bedrooms  7.677870e+04\n",
            "0                              area  2.359688e+02\n",
            "11  furnishingstatus_semi-furnished -1.268818e+05\n",
            "12     furnishingstatus_unfurnished -4.136451e+05\n"
          ]
        }
      ]
    }
  ]
}